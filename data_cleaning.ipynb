{
 "cells": [
  {
   "cell_type": "markdown",
   "id": "5bef370f",
   "metadata": {},
   "source": [
    "# Data Cleaning Process"
   ]
  },
  {
   "cell_type": "code",
   "execution_count": null,
   "id": "d5385537",
   "metadata": {},
   "outputs": [],
   "source": [
    "\"\"\"\n",
    "Author: Katy Mombourquette, Denis Ouellette\n",
    "Date: Dec 15, 2023\n",
    "\n",
    "Dependencies:\n",
    "Pandas\n",
    "Plotly\n",
    "Matplotlib\n",
    "Statsmodels\n",
    "Numpy\n",
    "Scipy\n",
    "\n",
    "Install instructions\n",
    "1. Install Pandas: !pip install pandas\n",
    "2. Install Plotly: !pip install plotly\n",
    "3. Install Matplotlib: !pip install matplotlib\n",
    "4. Install Statsmodels: !pip install statsmodels\n",
    "5. Install Numpy: !pip install numpy\n",
    "6. Install Scipy: !pip install scipy\n",
    "\"\"\""
   ]
  },
  {
   "cell_type": "code",
   "execution_count": null,
   "id": "d228116b",
   "metadata": {},
   "outputs": [],
   "source": [
    "# import required libraries\n",
    "import pandas as pd\n",
    "import plotly.express as px\n",
    "import matplotlib.pyplot as plt\n",
    "import statsmodels.api as sm\n",
    "import numpy as np\n",
    "import scipy"
   ]
  },
  {
   "cell_type": "code",
   "execution_count": null,
   "id": "cea67e0f",
   "metadata": {},
   "outputs": [],
   "source": [
    "# read in the data\n",
    "# The triage_df was too large to upload to github,\n",
    "# but you can find it on the original paper's GitHub repository, linked in the ReadMe.",
    "data = pd.read_csv(\"triage_df.csv\")\n",
    "data"
   ]
  },
  {
   "cell_type": "markdown",
   "id": "d6be17bf",
   "metadata": {},
   "source": [
    "# Subsetting the Data for Initial Analysis"
   ]
  },
  {
   "cell_type": "code",
   "execution_count": null,
   "id": "da0945f4",
   "metadata": {},
   "outputs": [],
   "source": [
    "# list different column types\n",
    "\n",
    "demographic_cols = [\"patient_id\", \"disposition\", \"age\", \"gender\", \"lang\", \"ethnicity\", \"race\", \n",
    "                    \"employstatus\", \"insurance_status\", \"maritalstatus\", \"religion\"]\n",
    "triage_eval_cols = [\"patient_id\",\"dep_name\", 'arrivalmode','arrivalmonth','arrivalday', \n",
    "                    'arrivalhour_bin', 'esi', 'triage_vital_hr', 'triage_vital_sbp', \n",
    "                    'triage_vital_dbp','triage_vital_rr','triage_vital_o2',\n",
    "                    'triage_vital_o2_device','triage_vital_temp']\n",
    "chief_complaint_cols = [\"patient_id\", \"disposition\",\n",
    "    'cc_abdominalcramping', 'cc_abdominaldistention', 'cc_abdominalpain', 'cc_abdominalpainpregnant',\n",
    "    'cc_abnormallab', 'cc_abscess', 'cc_addictionproblem', 'cc_agitation',\n",
    "    'cc_alcoholintoxication', 'cc_alcoholproblem', 'cc_allergicreaction', 'cc_alteredmentalstatus',\n",
    "    'cc_animalbite', 'cc_ankleinjury', 'cc_anklepain', 'cc_anxiety',\n",
    "    'cc_arminjury', 'cc_armpain', 'cc_armswelling', 'cc_assaultvictim',\n",
    "    'cc_asthma', 'cc_backpain', 'cc_bleeding/bruising', 'cc_blurredvision',\n",
    "    'cc_bodyfluidexposure', 'cc_breastpain', 'cc_breathingdifficulty', 'cc_breathingproblem',\n",
    "    'cc_burn', 'cc_cardiacarrest', 'cc_cellulitis', 'cc_chestpain',\n",
    "    'cc_chesttightness', 'cc_chills', 'cc_coldlikesymptoms', 'cc_confusion',\n",
    "    'cc_conjunctivitis', 'cc_constipation', 'cc_cough', 'cc_cyst',\n",
    "    'cc_decreasedbloodsugar-symptomatic', 'cc_dehydration', 'cc_dentalpain', 'cc_depression',\n",
    "    'cc_detoxevaluation', 'cc_diarrhea', 'cc_dizziness', 'cc_drug/alcoholassessment',\n",
    "    'cc_drugproblem', 'cc_dyspnea', 'cc_dysuria', 'cc_earpain',\n",
    "    'cc_earproblem', 'cc_edema', 'cc_elbowpain', 'cc_elevatedbloodsugar-nosymptoms',\n",
    "    'cc_elevatedbloodsugar-symptomatic', 'cc_emesis', 'cc_epigastricpain', 'cc_epistaxis',\n",
    "    'cc_exposuretostd', 'cc_extremitylaceration', 'cc_extremityweakness', 'cc_eyeinjury',\n",
    "    'cc_eyepain', 'cc_eyeproblem', 'cc_eyeredness', 'cc_facialinjury',\n",
    "    'cc_faciallaceration', 'cc_facialpain', 'cc_facialswelling', 'cc_fall',\n",
    "    'cc_fall>65', 'cc_fatigue', 'cc_femaleguproblem', 'cc_fever',\n",
    "    'cc_fever-75yearsorolder', 'cc_fever-9weeksto74years', 'cc_feverimmunocompromised', 'cc_fingerinjury',\n",
    "    'cc_fingerpain', 'cc_fingerswelling', 'cc_flankpain', 'cc_follow-upcellulitis',\n",
    "    'cc_footinjury', 'cc_footpain', 'cc_footswelling', 'cc_foreignbodyineye',\n",
    "    'cc_fulltrauma', 'cc_generalizedbodyaches', 'cc_gibleeding', 'cc_giproblem',\n",
    "    'cc_groinpain', 'cc_hallucinations', 'cc_handinjury', 'cc_handpain',\n",
    "    'cc_headache', 'cc_headache-newonsetornewsymptoms', 'cc_headache-recurrentorknowndxmigraines', 'cc_headachere-evaluation',\n",
    "    'cc_headinjury', 'cc_headlaceration', 'cc_hematuria', 'cc_hemoptysis',\n",
    "    'cc_hippain', 'cc_homicidal', 'cc_hyperglycemia', 'cc_hypertension',\n",
    "    'cc_hypotension', 'cc_influenza', 'cc_ingestion', 'cc_insectbite',\n",
    "    'cc_irregularheartbeat', 'cc_jawpain', 'cc_jointswelling', 'cc_kneeinjury',\n",
    "    'cc_kneepain', 'cc_laceration', 'cc_leginjury', 'cc_legpain',\n",
    "    'cc_legswelling', 'cc_lethargy', 'cc_lossofconsciousness', 'cc_maleguproblem',\n",
    "    'cc_mass', 'cc_medicalproblem', 'cc_medicalscreening', 'cc_medicationproblem',\n",
    "    'cc_medicationrefill', 'cc_migraine', 'cc_modifiedtrauma', 'cc_motorcyclecrash',\n",
    "    'cc_motorvehiclecrash', 'cc_multiplefalls', 'cc_nasalcongestion', 'cc_nausea',\n",
    "    'cc_nearsyncope', 'cc_neckpain', 'cc_neurologicproblem', 'cc_numbness',\n",
    "    'cc_oralswelling', 'cc_otalgia', 'cc_other', 'cc_overdose-accidental',\n",
    "    'cc_overdose-intentional', 'cc_pain', 'cc_palpitations', 'cc_panicattack',\n",
    "    'cc_pelvicpain', 'cc_poisoning', 'cc_post-opproblem', 'cc_psychiatricevaluation',\n",
    "    'cc_psychoticsymptoms', 'cc_rapidheartrate', 'cc_rash', 'cc_rectalbleeding',\n",
    "    'cc_rectalpain', 'cc_respiratorydistress', 'cc_ribinjury', 'cc_ribpain',\n",
    "    'cc_seizure-newonset', 'cc_seizure-priorhxof', 'cc_seizures', 'cc_shortnessofbreath',\n",
    "    'cc_shoulderinjury', 'cc_shoulderpain', 'cc_sicklecellpain', 'cc_sinusproblem',\n",
    "    'cc_skinirritation', 'cc_skinproblem', 'cc_sorethroat', 'cc_stdcheck',\n",
    "    'cc_strokealert', 'cc_suicidal', 'cc_suture/stapleremoval', 'cc_swallowedforeignbody',\n",
    "    'cc_syncope', 'cc_tachycardia', 'cc_testiclepain', 'cc_thumbinjury',\n",
    "    'cc_tickremoval', 'cc_toeinjury', 'cc_toepain', 'cc_trauma',\n",
    "    'cc_unresponsive', 'cc_uri', 'cc_urinaryfrequency', 'cc_urinaryretention',\n",
    "    'cc_urinarytractinfection', 'cc_vaginalbleeding', 'cc_vaginaldischarge', 'cc_vaginalpain',\n",
    "    'cc_weakness', 'cc_wheezing', 'cc_withdrawal-alcohol', 'cc_woundcheck',\n",
    "    'cc_woundinfection', 'cc_woundre-evaluation', 'cc_wristinjury', 'cc_wristpain']\n",
    "hosp_use_cols = [\"patient_id\", \"disposition\", 'n_edvisits', 'n_admissions', 'n_surgeries', 'previousdispo']\n",
    "med_hist_cols = [\"patient_id\", \"disposition\", '2ndarymalig', 'abdomhernia', 'abdomnlpain', 'abortcompl',\n",
    "    'acqfootdef', 'acrenlfail', 'acutecvd', 'acutemi',\n",
    "    'acutphanm', 'adjustmentdisorders', 'adltrespfl', 'alcoholrelateddisorders',\n",
    "    'allergy', 'amniosdx', 'analrectal', 'anemia',\n",
    "    'aneurysm', 'anxietydisorders', 'appendicitis', 'artembolism',\n",
    "    'asppneumon', 'asthma', 'attentiondeficitconductdisruptivebeha', 'backproblem',\n",
    "    'biliarydx', 'birthasphyx', 'birthtrauma', 'bladdercncr',\n",
    "    'blindness', 'bnignutneo', 'bonectcncr', 'bph',\n",
    "    'brainnscan', 'breastcancr', 'breastdx', 'brnchlngca',\n",
    "    'bronchitis', 'burns', 'cardiaarrst', 'cardiacanom',\n",
    "    'carditis', 'cataract', 'cervixcancr', 'chestpain',\n",
    "    'chfnonhp', 'chrkidneydisease', 'coaghemrdx', 'coloncancer',\n",
    "    'comabrndmg', 'complicdevi', 'complicproc', 'conduction',\n",
    "    'contraceptiv', 'copd', 'coronathero', 'crushinjury',\n",
    "    'cysticfibro', 'deliriumdementiaamnesticothercognitiv', 'developmentaldisorders', 'diabmelnoc',\n",
    "    'diabmelwcm', 'disordersusuallydiagnosedininfancych', 'diverticulos', 'dizziness',\n",
    "    'dminpreg', 'dysrhythmia', 'earlylabor', 'ecodesadverseeffectsofmedicalcare',\n",
    "    'ecodesadverseeffectsofmedicaldrugs', 'ecodescutpierce', 'ecodesdrowningsubmersion', 'ecodesfall',\n",
    "    'ecodesfirearm', 'ecodesfireburn', 'ecodesmachinery', 'ecodesmotorvehicletrafficmvt',\n",
    "    'ecodesnaturalenvironment', 'ecodesotherspecifiedandclassifiable', 'ecodesotherspecifiednec', 'ecodespedalcyclistnotmvt',\n",
    "    'ecodesplaceofoccurrence', 'ecodespoisoning', 'ecodessuffocation', 'ecodestransportnotmvt',\n",
    "    'ecodesunspecified', 'ectopicpreg', 'encephalitis', 'endometrios',\n",
    "    'epilepsycnv', 'esophcancer', 'esophgealdx', 'exameval',\n",
    "    'eyeinfectn', 'fatigue', 'femgenitca', 'feminfertil',\n",
    "    'fetaldistrs', 'fluidelcdx', 'fuo', 'fxarm',\n",
    "    'fxhip', 'fxleg', 'fxskullfac', 'gangrene',\n",
    "    'gasduoulcer', 'gastritis', 'gastroent', 'giconganom',\n",
    "    'gihemorrhag', 'giperitcan', 'glaucoma', 'goutotcrys',\n",
    "    'guconganom', 'hdnckcancr', 'headachemig', 'hemmorhoids',\n",
    "    'hemorrpreg', 'hepatitis', 'hivinfectn', 'hodgkinsds',\n",
    "    'hrtvalvedx', 'htn', 'htncomplicn', 'htninpreg',\n",
    "    'hyperlipidem', 'immunitydx', 'immunizscrn', 'impulsecontroldisordersnec',\n",
    "    'inducabortn', 'infectarth', 'influenza', 'infmalegen',\n",
    "    'intestinfct', 'intobstruct', 'intracrninj', 'jointinjury',\n",
    "    'kidnyrnlca', 'lateeffcvd', 'leukemias', 'liveborn',\n",
    "    'liveribdca', 'longpregncy', 'lowbirthwt', 'lungexternl',\n",
    "    'lymphenlarg', 'maintchemr', 'malgenitca', 'maligneopls',\n",
    "    'malposition', 'meningitis', 'menopausldx', 'menstrualdx',\n",
    "    'miscellaneousmentalhealthdisorders', 'mooddisorders', 'mouthdx', 'ms',\n",
    "    'multmyeloma', 'mycoses', 'nauseavomit', 'neoplsmunsp',\n",
    "    'nephritis', 'nervcongan', 'nonepithca', 'nonhodglym',\n",
    "    'nutritdefic', 'obrelatedperintrauma', 'opnwndextr', 'opnwndhead',\n",
    "    'osteoarthros', 'osteoporosis', 'otacqdefor', 'otaftercare',\n",
    "    'otbnignneo', 'otbonedx', 'otcirculdx', 'otcomplbir',\n",
    "    'otconganom', 'otconntiss', 'otdxbladdr', 'otdxkidney',\n",
    "    'otdxstomch', 'otendodsor', 'otfemalgen', 'othbactinf',\n",
    "    'othcnsinfx', 'othematldx', 'othercvd', 'othereardx',\n",
    "    'otheredcns', 'othereyedx', 'othergidx', 'othergudx',\n",
    "    'otherinjury', 'otherpregnancyanddeliveryincludingnormal', 'otherscreen', 'othfracture',\n",
    "    'othheartdx', 'othinfectns', 'othliverdx', 'othlowresp',\n",
    "    'othmalegen', 'othnervdx', 'othskindx', 'othveindx',\n",
    "    'otinflskin', 'otitismedia', 'otjointdx', 'otnutritdx',\n",
    "    'otperintdx', 'otpregcomp', 'otprimryca', 'otrespirca',\n",
    "    'otupprresp', 'otuprspin', 'ovariancyst', 'ovarycancer',\n",
    "    'pancreascan', 'pancreasdx', 'paralysis', 'parkinsons',\n",
    "    'pathologfx', 'pelvicobstr', 'perintjaund', 'peripathero',\n",
    "    'peritonitis', 'personalitydisorders', 'phlebitis', 'pid',\n",
    "    'pleurisy', 'pneumonia', 'poisnnonmed', 'poisnotmed',\n",
    "    'poisonpsych', 'precereoccl', 'prevcsectn', 'prolapse',\n",
    "    'prostatecan', 'pulmhartdx', 'rctmanusca', 'rehab',\n",
    "    'respdistres', 'retinaldx', 'rheumarth', 'schizophreniaandotherpsychoticdisorde',\n",
    "    'screeningandhistoryofmentalhealthan', 'septicemia', 'septicemiaexceptinlabor', 'sexualinfxs',\n",
    "    'shock', 'sicklecell', 'skininfectn', 'skinmelanom',\n",
    "    'sle', 'socialadmin', 'spincorinj', 'spontabortn',\n",
    "    'sprain', 'stomchcancr', 'substancerelateddisorders', 'suicideandintentionalselfinflictedin',\n",
    "    'superficinj', 'syncope', 'teethdx', 'testiscancr',\n",
    "    'thyroidcncr', 'thyroiddsor', 'tia', 'tonsillitis',\n",
    "    'tuberculosis', 'ulceratcol', 'ulcerskin', 'umbilcord',\n",
    "    'unclassified', 'urinstone', 'urinyorgca', 'uteruscancr',\n",
    "    'uti', 'varicosevn', 'viralinfect', 'whtblooddx']\n",
    "meds_cols = [\"patient_id\", \"disposition\", 'meds_analgesicandantihistaminecombination',\n",
    " 'meds_analgesics','meds_anesthetics','meds_anti-obesitydrugs','meds_antiallergy','meds_antiarthritics',\n",
    " 'meds_antiasthmatics','meds_antibiotics','meds_anticoagulants','meds_antidotes','meds_antifungals',\n",
    " 'meds_antihistamineanddecongestantcombination','meds_antihistamines','meds_antihyperglycemics',\n",
    " 'meds_antiinfectives','meds_antiinfectives/miscellaneous','meds_antineoplastics','meds_antiparkinsondrugs',\n",
    " 'meds_antiplateletdrugs','meds_antivirals','meds_autonomicdrugs','meds_biologicals','meds_blood',\n",
    " 'meds_cardiacdrugs','meds_cardiovascular','meds_cnsdrugs','meds_colonystimulatingfactors','meds_contraceptives',\n",
    " 'meds_cough/coldpreparations','meds_diagnostic','meds_diuretics','meds_eentpreps','meds_elect/caloric/h2o',\n",
    " 'meds_gastrointestinal','meds_herbals','meds_hormones','meds_immunosuppressants','meds_investigational',\n",
    " 'meds_miscellaneousmedicalsupplies,devices,non-drug','meds_musclerelaxants','meds_pre-natalvitamins',\n",
    " 'meds_psychotherapeuticdrugs','meds_sedative/hypnotics','meds_skinpreps','meds_smokingdeterrents',\n",
    " 'meds_thyroidpreps','meds_unclassifieddrugproducts','meds_vitamins']\n",
    "hist_vitals_cols = [\"patient_id\", \"disposition\", 'pulse_last','resp_last','spo2_last','temp_last','sbp_last','dbp_last','o2_device_last',\n",
    "                    'pulse_min','resp_min','spo2_min','temp_min','sbp_min','dbp_min','o2_device_min','pulse_max',\n",
    "                    'resp_max','spo2_max','temp_max','sbp_max','dbp_max','o2_device_max','pulse_median','resp_median',\n",
    "                    'spo2_median','temp_median','sbp_median','dbp_median','o2_device_median']\n",
    "hist_labs_cols = [\"patient_id\", \"disposition\", \n",
    "    'absolutelymphocytecount_last', 'acetonebld_last', 'alanineaminotransferase(alt)_last', 'albumin_last',\n",
    "    'alkphos_last', 'anc(absneutrophilcount)_last', 'aniongap_last', 'aspartateaminotransferase(ast)_last',\n",
    "    'b-typenatriureticpeptide,pro(probnp)_last', 'baseexcess(poc)_last', 'baseexcess,venous(poc)_last', 'basos_last',\n",
    "    'basosabs_last', 'benzodiazepinesscreen,urine,noconf._last', 'bilirubindirect_last', 'bilirubintotal_last',\n",
    "    'bun_last', 'bun/creatratio_last', 'calcium_last', 'calculatedco2(poc)_last', 'calculatedhco3(poc)i_last',\n",
    "    'calculatedo2saturation(poc)_last', 'chloride_last', 'cktotal_last', 'co2_last', 'co2calculated,venous(poc)_last',\n",
    "    'co2,poc_last', 'creatinine_last', 'd-dimer_last', 'egfr_last', 'egfr(nonafricanamerican)_last', 'egfr(aframer)_last',\n",
    "    'eos_last', 'eosinoabs_last', 'epithelialcells_last', 'globulin_last', 'glucose_last', 'glucose,meter_last',\n",
    "    'hco3calculated,venous(poc)_last', 'hematocrit_last', 'hemoglobin_last', 'immaturegrans(abs)_last',\n",
    "    'immaturegranulocytes_last', 'inr_last', 'lactate,poc_last', 'lipase_last', 'lymphs_last', 'magnesium_last',\n",
    "    'mch_last', 'mchc_last', 'mcv_last', 'monocytes_last', 'monosabs_last', 'mpv_last', 'neutrophils_last',\n",
    "    'nrbc_last', 'nrbcabsolute_last', 'o2satcalculated,venous(poc)_last', 'pco2(poc)_last', 'pco2,venous(poc)_last',\n",
    "    'ph,venous(poc)_last', 'phencyclidine(pcp)screen,urine,noconf._last', 'phosphorus_last', 'platelets_last',\n",
    "    'po2(poc)_last', 'po2,venous(poc)_last', 'pocbun_last', 'poccreatinine_last', 'pocglucose_last',\n",
    "    'pochematocrit_last', 'pocionizedcalcium_last', 'pocph_last', 'pocpotassium_last', 'pocsodium_last',\n",
    "    'poctroponini._last', 'potassium_last', 'proteintotal_last', 'prothrombintime_last', 'ptt_last', 'rbc_last',\n",
    "    'rbc/hpf_last', 'rdw_last', 'sodium_last', 'troponini(poc)_last', 'troponint_last', 'tsh_last', 'wbc_last',\n",
    "    'wbc/hpf_last', 'absolutelymphocytecount_min', 'acetonebld_min', 'alanineaminotransferase(alt)_min', 'albumin_min',\n",
    "    'alkphos_min', 'anc(absneutrophilcount)_min', 'aniongap_min', 'aspartateaminotransferase(ast)_min',\n",
    "    'b-typenatriureticpeptide,pro(probnp)_min', 'baseexcess(poc)_min', 'baseexcess,venous(poc)_min', 'basos_min',\n",
    "    'basosabs_min', 'benzodiazepinesscreen,urine,noconf._min', 'bilirubindirect_min', 'bilirubintotal_min',\n",
    "    'bun_min', 'bun/creatratio_min', 'calcium_min', 'calculatedco2(poc)_min', 'calculatedhco3(poc)i_min',\n",
    "    'calculatedo2saturation(poc)_min', 'chloride_min', 'cktotal_min', 'co2_min', 'co2calculated,venous(poc)_min',\n",
    "    'co2,poc_min', 'creatinine_min', 'd-dimer_min', 'egfr_min', 'egfr(nonafricanamerican)_min', 'egfr(aframer)_min',\n",
    "    'eos_min', 'eosinoabs_min', 'epithelialcells_min', 'globulin_min', 'glucose_min', 'glucose,meter_min',\n",
    "    'hco3calculated,venous(poc)_min', 'hematocrit_min', 'hemoglobin_min', 'immaturegrans(abs)_min',\n",
    "    'immaturegranulocytes_min', 'inr_min', 'lactate,poc_min', 'lipase_min', 'lymphs_min', 'magnesium_min',\n",
    "    'mch_min', 'mchc_min', 'mcv_min', 'monocytes_min', 'monosabs_min', 'mpv_min', 'neutrophils_min',\n",
    "    'nrbc_min', 'nrbcabsolute_min', 'o2satcalculated,venous(poc)_min', 'pco2(poc)_min', 'pco2,venous(poc)_min',\n",
    "    'ph,venous(poc)_min', 'phencyclidine(pcp)screen,urine,noconf._min', 'phosphorus_min', 'platelets_min',\n",
    "    'po2(poc)_min', 'po2,venous(poc)_min', 'pocbun_min', 'poccreatinine_min', 'pocglucose_min',\n",
    "    'pochematocrit_min', 'pocionizedcalcium_min', 'pocph_min', 'pocpotassium_min', 'pocsodium_min',\n",
    "    'poctroponini._min', 'potassium_min', 'proteintotal_min', 'prothrombintime_min', 'ptt_min', 'rbc_min',\n",
    "    'rbc/hpf_min', 'rdw_min', 'sodium_min', 'troponini(poc)_min', 'troponint_min', 'tsh_min', 'wbc_min',\n",
    "    'wbc/hpf_min', 'absolutelymphocytecount_max', 'acetonebld_max', 'alanineaminotransferase(alt)_max',\n",
    "    'albumin_max', 'alkphos_max', 'anc(absneutrophilcount)_max', 'aniongap_max', 'aspartateaminotransferase(ast)_max',\n",
    "    'b-typenatriureticpeptide,pro(probnp)_max', 'baseexcess(poc)_max', 'baseexcess,venous(poc)_max', 'basos_max',\n",
    "    'basosabs_max', 'benzodiazepinesscreen,urine,noconf._max', 'bilirubindirect_max', 'bilirubintotal_max',\n",
    "    'bun_max', 'bun/creatratio_max', 'calcium_max', 'calculatedco2(poc)_max', 'calculatedhco3(poc)i_max',\n",
    "    'calculatedo2saturation(poc)_max', 'chloride_max', 'cktotal_max', 'co2_max', 'co2calculated,venous(poc)_max',\n",
    "    'co2,poc_max', 'creatinine_max', 'd-dimer_max', 'egfr_max', 'egfr(nonafricanamerican)_max', 'egfr(aframer)_max',\n",
    "    'eos_max', 'eosinoabs_max', 'epithelialcells_max', 'globulin_max', 'glucose_max', 'glucose,meter_max',\n",
    "    'hco3calculated,venous(poc)_max', 'hematocrit_max', 'hemoglobin_max', 'immaturegrans(abs)_max',\n",
    "    'immaturegranulocytes_max', 'inr_max', 'lactate,poc_max', 'lipase_max', 'lymphs_max', 'magnesium_max',\n",
    "    'mch_max', 'mchc_max', 'mcv_max', 'monocytes_max', 'monosabs_max', 'mpv_max', 'neutrophils_max',\n",
    "    'nrbc_max', 'nrbcabsolute_max', 'o2satcalculated,venous(poc)_max', 'pco2(poc)_max', 'pco2,venous(poc)_max',\n",
    "    'ph,venous(poc)_max', 'phencyclidine(pcp)screen,urine,noconf._max', 'phosphorus_max', 'platelets_max',\n",
    "    'po2(poc)_max', 'po2,venous(poc)_max', 'pocbun_max', 'poccreatinine_max', 'pocglucose_max',\n",
    "    'pochematocrit_max', 'pocionizedcalcium_max', 'pocph_max', 'pocpotassium_max', 'pocsodium_max',\n",
    "    'poctroponini._max', 'potassium_max', 'proteintotal_max', 'prothrombintime_max', 'ptt_max', 'rbc_max',\n",
    "    'rbc/hpf_max', 'rdw_max', 'sodium_max', 'troponini(poc)_max', 'troponint_max', 'tsh_max', 'wbc_max',\n",
    "    'wbc/hpf_max', 'absolutelymphocytecount_median', 'acetonebld_median', 'alanineaminotransferase(alt)_median',\n",
    "    'albumin_median', 'alkphos_median', 'anc(absneutrophilcount)_median', 'aniongap_median',\n",
    "    'aspartateaminotransferase(ast)_median', 'b-typenatriureticpeptide,pro(probnp)_median', 'baseexcess(poc)_median',\n",
    "    'baseexcess,venous(poc)_median', 'basos_median', 'basosabs_median', 'benzodiazepinesscreen,urine,noconf._median',\n",
    "    'bilirubindirect_median', 'bilirubintotal_median', 'bun_median', 'bun/creatratio_median', 'calcium_median',\n",
    "    'calculatedco2(poc)_median', 'calculatedhco3(poc)i_median', 'calculatedo2saturation(poc)_median',\n",
    "    'chloride_median', 'cktotal_median', 'co2_median', 'co2calculated,venous(poc)_median', 'co2,poc_median',\n",
    "    'creatinine_median', 'd-dimer_median', 'egfr_median', 'egfr(nonafricanamerican)_median', 'egfr(aframer)_median',\n",
    "    'eos_median', 'eosinoabs_median', 'epithelialcells_median', 'globulin_median', 'glucose_median',\n",
    "    'glucose,meter_median', 'hco3calculated,venous(poc)_median', 'hematocrit_median', 'hemoglobin_median',\n",
    "    'immaturegrans(abs)_median', 'immaturegranulocytes_median', 'inr_median', 'lactate,poc_median', 'lipase_median',\n",
    "    'lymphs_median', 'magnesium_median', 'mch_median', 'mchc_median', 'mcv_median', 'monocytes_median',\n",
    "    'monosabs_median', 'mpv_median', 'neutrophils_median', 'nrbc_median', 'nrbcabsolute_median',\n",
    "    'o2satcalculated,venous(poc)_median', 'pco2(poc)_median', 'pco2,venous(poc)_median', 'ph,venous(poc)_median',\n",
    "    'phencyclidine(pcp)screen,urine,noconf._median', 'phosphorus_median', 'platelets_median', 'po2(poc)_median',\n",
    "    'po2,venous(poc)_median', 'pocbun_median', 'poccreatinine_median', 'pocglucose_median', 'pochematocrit_median',\n",
    "    'pocionizedcalcium_median', 'pocph_median', 'pocpotassium_median', 'pocsodium_median', 'poctroponini._median',\n",
    "    'potassium_median', 'proteintotal_median', 'prothrombintime_median', 'ptt_median', 'rbc_median', 'rbc/hpf_median',\n",
    "    'rdw_median', 'sodium_median', 'troponini(poc)_median', 'troponint_median', 'tsh_median', 'wbc_median',\n",
    "    'wbc/hpf_median', 'bloodua_last', 'glucoseua_last', 'ketonesua_last', 'leukocytesua_last', 'nitriteua_last',\n",
    "    'pregtestur_last', 'proteinua_last', 'bloodculture,routine_last', 'urineculture,routine_last', 'bloodua_npos',\n",
    "    'glucoseua_npos', 'ketonesua_npos', 'leukocytesua_npos', 'nitriteua_npos', 'pregtestur_npos', 'proteinua_npos',\n",
    "    'bloodculture,routine_npos', 'urineculture,routine_npos', 'bloodua_count', 'glucoseua_count', 'ketonesua_count',\n",
    "    'leukocytesua_count', 'nitriteua_count', 'pregtestur_count', 'proteinua_count', 'bloodculture,routine_count',\n",
    "    'urineculture,routine_count']\n",
    "imag_EKG_cols = [\"patient_id\", \"disposition\", 'cxr_count','echo_count','ekg_count','headct_count','mri_count',\n",
    "                 'otherct_count','otherimg_count','otherus_count','otherxr_count']"
   ]
  },
  {
   "cell_type": "code",
   "execution_count": null,
   "id": "c70bafcd",
   "metadata": {},
   "outputs": [],
   "source": [
    "# split df into subsets so it is easier to see\n",
    "# these will all be updated as we explore and fill nulls \n",
    "\n",
    "demographics = data[demographic_cols]\n",
    "triage_eval = data[triage_eval_cols]\n",
    "chief_complaints = data[chief_complaint_cols]\n",
    "hosp_use = data[hosp_use_cols]\n",
    "med_hist = data[med_hist_cols]\n",
    "meds = data[meds_cols]\n",
    "hist_vitals = data[hist_vitals_cols]\n",
    "hist_labs = data[hist_labs_cols]\n",
    "imag_ekg = data[imag_EKG_cols]\n",
    "target = data['disposition']"
   ]
  },
  {
   "cell_type": "markdown",
   "id": "cf2f0c4d",
   "metadata": {},
   "source": [
    "## Demographics\n",
    "\n",
    "### Nulls & Statistics"
   ]
  },
  {
   "cell_type": "code",
   "execution_count": null,
   "id": "6b954dd3",
   "metadata": {},
   "outputs": [],
   "source": [
    "demographics.info()"
   ]
  },
  {
   "cell_type": "code",
   "execution_count": null,
   "id": "caa8ad8e",
   "metadata": {},
   "outputs": [],
   "source": [
    "# miniscule nulls so drop from df\n",
    "\n",
    "data = data.dropna(subset=['age', 'race'])\n",
    "demographics = data[demographic_cols]\n",
    "demographics.info()"
   ]
  },
  {
   "cell_type": "code",
   "execution_count": null,
   "id": "6631c2d2",
   "metadata": {},
   "outputs": [],
   "source": [
    "demographics.describe(include='all')"
   ]
  },
  {
   "cell_type": "markdown",
   "id": "9c596706",
   "metadata": {},
   "source": [
    "mean `age` = `50` years\n",
    "\n",
    "oldest patient: `108` years old\n",
    "\n",
    "youngest patient (all are adults): `18` years old\n",
    "\n",
    "\n",
    "**Most common demographics**\n",
    "\n",
    "Gender: Female\n",
    "\n",
    "Language: English\n",
    "\n",
    "Ethnicity: Non-Hispanic\n",
    "\n",
    "Race: White * in the other data set it is **Other**\n",
    "\n",
    "Employment Status: Unemployed\n",
    "\n",
    "Insurance Status: Medicaid\n",
    "\n",
    "Marital Status: Single\n",
    "\n",
    "Religion: Catholic"
   ]
  },
  {
   "cell_type": "markdown",
   "id": "2b503590",
   "metadata": {},
   "source": [
    "# Column Distributions"
   ]
  },
  {
   "cell_type": "code",
   "execution_count": null,
   "id": "5092bcfc",
   "metadata": {},
   "outputs": [],
   "source": [
    "# i defined a function to visualize multiple column distributions\n",
    "from functions import visualize_column_distribution\n",
    "\n",
    "cols_to_visualize = demographic_cols[2:]\n",
    "\n",
    "visualize_column_distribution(demographics, cols_to_visualize)"
   ]
  },
  {
   "cell_type": "code",
   "execution_count": null,
   "id": "f6254ca5",
   "metadata": {},
   "outputs": [],
   "source": [
    "# unknown and refused are generally nulls ... let's remove in relevant columns\n",
    "# update the subset each time\n",
    "\n",
    "# ethnicity\n",
    "data = data[(data['ethnicity'] == 'Hispanic or Latino') | (data['ethnicity'] == 'Non-Hispanic')]\n",
    "demographics = data[demographic_cols]\n",
    "\n",
    "# race\n",
    "data = data[(data['race'] != 'Patient Refused') & \n",
    "                              (data['race'] != 'Unknown')]\n",
    "demographics = data[demographic_cols]\n",
    "\n",
    "# employ status\n",
    "data = data[(data['employstatus'] != 'Unknown')]\n",
    "demographics = data[demographic_cols]\n",
    "\n",
    "# marital status\n",
    "data = data[(data['maritalstatus'] != 'Unknown')]\n",
    "demographics = data[demographic_cols]\n",
    "\n",
    "# religion\n",
    "data = data[(data['religion'] != 'Unknown')]\n",
    "demographics = data[demographic_cols]"
   ]
  },
  {
   "cell_type": "markdown",
   "id": "bd003098",
   "metadata": {},
   "source": [
    "# Triage Evaluations\n",
    "\n",
    "## Nulls & Statistics & Column Distributions"
   ]
  },
  {
   "cell_type": "code",
   "execution_count": null,
   "id": "ad5dc6d9",
   "metadata": {},
   "outputs": [],
   "source": [
    "# update columns\n",
    "triage_eval = data[triage_eval_cols]\n",
    "triage_eval.info()"
   ]
  },
  {
   "cell_type": "markdown",
   "id": "cc9397db",
   "metadata": {},
   "source": [
    "Nulls in arrivalmode, esi, and all the triage columns"
   ]
  },
  {
   "cell_type": "code",
   "execution_count": null,
   "id": "67d24f35",
   "metadata": {
    "scrolled": true
   },
   "outputs": [],
   "source": [
    "cols_to_visualize = triage_eval_cols[2:]\n",
    "visualize_column_distribution(triage_eval, cols_to_visualize)"
   ]
  },
  {
   "cell_type": "code",
   "execution_count": null,
   "id": "ee70948b",
   "metadata": {
    "scrolled": true
   },
   "outputs": [],
   "source": [
    "# checking distributions with Q-Q plot\n",
    "\n",
    "from functions import qq_plot\n",
    "\n",
    "numeric_columns = ['triage_vital_hr', 'triage_vital_sbp', 'triage_vital_dbp', \n",
    "           'triage_vital_rr', 'triage_vital_o2', 'triage_vital_temp']\n",
    "\n",
    "qq_plot(triage_eval, numeric_columns)"
   ]
  },
  {
   "cell_type": "markdown",
   "id": "9a32cd95",
   "metadata": {},
   "source": [
    "There are a lot of outliers, but removing them cuts my data by so much since they seem to be spread out over different columns. So I will leave them since I will already cut down my data by undersampling the English-speakers."
   ]
  },
  {
   "cell_type": "code",
   "execution_count": null,
   "id": "374848d4",
   "metadata": {},
   "outputs": [],
   "source": [
    "# removing nulls \n",
    "\n",
    "# arrivalmode - just remove since it's categorical\n",
    "data = data.dropna(subset=['arrivalmode'])\n",
    "triage_eval_balanced = data[triage_eval_cols]\n",
    "\n",
    "\n",
    "# normal dists: mean\n",
    "normal_dist_cols = ['esi', 'triage_vital_hr', 'triage_vital_sbp', 'triage_vital_dbp',\n",
    "                    'triage_vital_temp', 'triage_vital_rr']\n",
    "\n",
    "from functions import fill_mean\n",
    "\n",
    "for column in normal_dist_cols:\n",
    "    fill_mean(data, column)\n",
    "    \n",
    "# skewed dists: median\n",
    "\n",
    "from functions import fill_median\n",
    "\n",
    "fill_median(data, 'triage_vital_o2')\n",
    "    \n",
    "# binary columns: mode\n",
    "\n",
    "binary_col = 'triage_vital_o2_device'\n",
    "\n",
    "from functions import fill_mode\n",
    "\n",
    "fill_mode(data, binary_col)\n",
    "\n",
    "triage_eval_balanced = data[triage_eval_cols]\n",
    "\n",
    "triage_eval_balanced.info()"
   ]
  },
  {
   "cell_type": "code",
   "execution_count": null,
   "id": "fd47c60c",
   "metadata": {},
   "outputs": [],
   "source": [
    "triage_eval.describe(include='all')"
   ]
  },
  {
   "cell_type": "markdown",
   "id": "dd4b7d98",
   "metadata": {},
   "source": [
    " - Average esi is about 3\n",
    " - Average heart rate is 86\n",
    "     - Min is 30 (not enough oxygen to the brain)\n",
    "     - Max is 244 (atrial flutter)\n",
    " - Average bp values are 18 & 12 *\n",
    " - Avg respiratory rate is 18\n",
    " - Avg o2 is 98\n",
    " - Usually an o2 device is NOT present (only 3% of the time)\n",
    " - Avg temp is 98 (slightly lower than body temp)\n",
    "     - Max is 106 (fever)\n",
    "     - Min is 90 (hypothermia)\n",
    " "
   ]
  },
  {
   "cell_type": "markdown",
   "id": "bcd1de85",
   "metadata": {},
   "source": [
    "# Chief Complaints\n",
    "\n",
    "## Nulls, Statistics, and Column Distributions"
   ]
  },
  {
   "cell_type": "code",
   "execution_count": null,
   "id": "5da96333",
   "metadata": {},
   "outputs": [],
   "source": [
    "# update columns\n",
    "chief_complaints = data[chief_complaint_cols]\n",
    "\n",
    "# uncomment to see both\n",
    "chief_complaints.iloc[:, 1:101].info()\n",
    "#chief_complaints.iloc[:, 102:].info()"
   ]
  },
  {
   "cell_type": "markdown",
   "id": "7b0f5581",
   "metadata": {},
   "source": [
    "Looks like there's 2000 nulls in each column."
   ]
  },
  {
   "cell_type": "code",
   "execution_count": null,
   "id": "a2868ee0",
   "metadata": {},
   "outputs": [],
   "source": [
    "chief_complaints['cc_abdominalcramping'].isnull().sum()"
   ]
  },
  {
   "cell_type": "markdown",
   "id": "6255e7db",
   "metadata": {},
   "source": [
    "#### Strategies\n",
    "\n",
    "1. Random Imputation:\n",
    "    - Approach: Randomly assign null values to 0 or 1 based on the existing distribution.\n",
    "    - Pros: Preserves the original distribution.\n",
    "    - Cons: Results may vary with different random assignments.\n",
    "    \n",
    "2. Mode Imputation:\n",
    "    - Approach: Replace null values with the mode of the column.\n",
    "    - Pros: Simple and effective for imbalanced datasets.\n",
    "    - Cons: May not be suitable for datasets with more complex patterns\n",
    "    \n",
    "3. Deletion:\n",
    "    - Approach: Remove rows with null values in the binary column.\n",
    "    - Pros: Simple and avoids imputation.\n",
    "    - Cons: May result in loss of valuable data, especially if nulls are not random."
   ]
  },
  {
   "cell_type": "code",
   "execution_count": null,
   "id": "f5b672e8",
   "metadata": {
    "scrolled": false
   },
   "outputs": [],
   "source": [
    "# filling  binary nulls with mode since the complaints are very unbalanced (most should be 0)\n",
    "binary_cols = [chief_complaint_cols[2:]]\n",
    "for col in binary_cols:\n",
    "    fill_mode(data, col)\n",
    "\n",
    "chief_complaints = data[chief_complaint_cols]\n",
    "chief_complaints.iloc[:, :75].info()"
   ]
  },
  {
   "cell_type": "code",
   "execution_count": null,
   "id": "45256251",
   "metadata": {},
   "outputs": [],
   "source": [
    "chief_complaints.describe(include='all').T.sort_values(by='mean', ascending=False)"
   ]
  },
  {
   "cell_type": "markdown",
   "id": "f810798a",
   "metadata": {},
   "source": [
    "Abdominal pain, other, chest pain, and shortness of breath are the top three most common complaints in the data."
   ]
  },
  {
   "cell_type": "markdown",
   "id": "243703bc",
   "metadata": {},
   "source": [
    "## Hospital Use\n",
    "### Nulls and Stats"
   ]
  },
  {
   "cell_type": "code",
   "execution_count": null,
   "id": "2fa0be57",
   "metadata": {},
   "outputs": [],
   "source": [
    "# update columns\n",
    "hosp_use = data[hosp_use_cols]\n",
    "\n",
    "hosp_use.info()"
   ]
  },
  {
   "cell_type": "markdown",
   "id": "ea5af303",
   "metadata": {},
   "source": [
    "One null in n_surgeries, let's just drop it"
   ]
  },
  {
   "cell_type": "code",
   "execution_count": null,
   "id": "ca9037bc",
   "metadata": {},
   "outputs": [],
   "source": [
    "data = data.dropna(subset=['n_surgeries'])\n",
    "hosp_use=data[hosp_use_cols]\n",
    "hosp_use.info()"
   ]
  },
  {
   "cell_type": "markdown",
   "id": "46f0fbd7",
   "metadata": {},
   "source": [
    "### Column Distributions"
   ]
  },
  {
   "cell_type": "code",
   "execution_count": null,
   "id": "f6c33674",
   "metadata": {},
   "outputs": [],
   "source": [
    "visualize_column_distribution(hosp_use, hosp_use_cols[2:])"
   ]
  },
  {
   "cell_type": "markdown",
   "id": "1ce43304",
   "metadata": {},
   "source": [
    "Some outliers past 20 sugeries, but we will leave them."
   ]
  },
  {
   "cell_type": "markdown",
   "id": "7b73b052",
   "metadata": {},
   "source": [
    "**Some Terms in the `PreviousDispo` Column**\n",
    "\n",
    "LWBS: Left without being seen\n",
    "\n",
    "AMA: Discharged against medical advice\n",
    "\n",
    "Eloped: \"a patient who leaves the hospital when doing so may present an imminent threat to the patient's health or safety because of legal status or because the patient has been deemed too ill or impaired to make a reasoned decision to leave\"\n",
    "\n",
    "L&D: Labour and delivery"
   ]
  },
  {
   "cell_type": "markdown",
   "id": "7fb273de",
   "metadata": {},
   "source": [
    "## Medical History\n",
    "\n",
    "### Nulls, Statistics\n",
    "\n",
    "Uncomment to see different subsections of columns"
   ]
  },
  {
   "cell_type": "code",
   "execution_count": null,
   "id": "3aa5a57d",
   "metadata": {
    "scrolled": true
   },
   "outputs": [],
   "source": [
    "# update columns\n",
    "\n",
    "med_hist = data[med_hist_cols]\n",
    "\n",
    "# med_hist.iloc[:, 0:50].info()\n",
    "# med_hist.iloc[:, 51:100].info()\n",
    "# med_hist.iloc[:, 101:150].info()\n",
    "# med_hist.iloc[:, 151:200].info()\n",
    "# med_hist.iloc[:, 201:250].info()\n",
    "med_hist.iloc[:, 251:300].info()"
   ]
  },
  {
   "cell_type": "markdown",
   "id": "69ce59c6",
   "metadata": {},
   "source": [
    "**No nulls, no incorrect data types**"
   ]
  },
  {
   "cell_type": "code",
   "execution_count": null,
   "id": "c5ffae57",
   "metadata": {
    "scrolled": true
   },
   "outputs": [],
   "source": [
    "med_hist.describe(include='all').T.sort_values(by='mean', ascending=False)[0:10]"
   ]
  },
  {
   "cell_type": "markdown",
   "id": "7fbbf890",
   "metadata": {},
   "source": [
    "**Most common past medical history conditions:**\n",
    "- hypertension (close to 50%)\n",
    "- disorders of lipid metabolism (\"Gaucher's disease, Tay-Sachs disease, Niemann-Pick disease (NPD), etc.\")\n",
    "- **mood disorders** (was 4th in other data)\n",
    "    - 5 main types of mood disorders: \n",
    "        - major depression\n",
    "        - dysthymia (dysthymic disorder)\n",
    "        - bipolar disorder\n",
    "        - mood disorder due to a general medical condition\n",
    "        - substance-induced mood disorder.\n",
    "- **anxiety disorders** (new)\n",
    "- diabetes mellitus without complications"
   ]
  },
  {
   "cell_type": "markdown",
   "id": "5032ea15",
   "metadata": {},
   "source": [
    "## Medications\n",
    "\n",
    "## Nulls & Statistics"
   ]
  },
  {
   "cell_type": "code",
   "execution_count": null,
   "id": "36b83d2f",
   "metadata": {
    "scrolled": false
   },
   "outputs": [],
   "source": [
    "# update columns\n",
    "\n",
    "meds = data[meds_cols]\n",
    "\n",
    "meds.info()"
   ]
  },
  {
   "cell_type": "markdown",
   "id": "20d3141d",
   "metadata": {},
   "source": [
    "**No Nulls**"
   ]
  },
  {
   "cell_type": "code",
   "execution_count": null,
   "id": "0a4d5317",
   "metadata": {},
   "outputs": [],
   "source": [
    "meds.describe(include='all').T.sort_values(by='mean', ascending=False).iloc[0:9, :]"
   ]
  },
  {
   "cell_type": "markdown",
   "id": "5e624f3d",
   "metadata": {},
   "source": [
    "Most common medications: cardiovascular, gastrointestinal, psychotherapeutic."
   ]
  },
  {
   "cell_type": "markdown",
   "id": "ee1e3922",
   "metadata": {},
   "source": [
    "## Historical Vitals\n",
    "\n",
    "### Nulls & Statistics"
   ]
  },
  {
   "cell_type": "code",
   "execution_count": null,
   "id": "1cfbfb66",
   "metadata": {},
   "outputs": [],
   "source": [
    "# update columns\n",
    "\n",
    "hist_vitals = data[hist_vitals_cols]\n",
    "\n",
    "hist_vitals.info()"
   ]
  },
  {
   "cell_type": "code",
   "execution_count": null,
   "id": "de3eb7d3",
   "metadata": {},
   "outputs": [],
   "source": [
    "# split into numeric and binary\n",
    "\n",
    "hv_num = ['pulse_last','resp_last','spo2_last','temp_last','sbp_last','dbp_last',\n",
    "                    'pulse_min','resp_min','spo2_min','temp_min','sbp_min','dbp_min', 'pulse_max',\n",
    "                    'resp_max','spo2_max','temp_max','sbp_max','dbp_max', 'pulse_median','resp_median',\n",
    "                    'spo2_median','temp_median','sbp_median','dbp_median']\n",
    "\n",
    "hv_bin = ['o2_device_last', 'o2_device_min', 'o2_device_max', 'o2_device_median']"
   ]
  },
  {
   "cell_type": "code",
   "execution_count": null,
   "id": "6101a938",
   "metadata": {
    "scrolled": true
   },
   "outputs": [],
   "source": [
    "# let's quickly check distributions of numeric columns\n",
    "\n",
    "qq_plot(data, hv_num)"
   ]
  },
  {
   "cell_type": "markdown",
   "id": "62494fb1",
   "metadata": {},
   "source": [
    "There are a lot of odd outliers and distributions in different columns. I do not believe that these columns are necessary to include in the model for the following reasons:\n",
    "\n",
    "1. There are many nulls, some with most of the data missing.\n",
    "2. There are many different distributions that would require an invidiual look.\n",
    "3. While historical vitals are useful for determining trends over time, ER and triage is more about the immediate present, and I think that while it would be useful to include, it is overall not worth the problems that it comes with."
   ]
  },
  {
   "cell_type": "code",
   "execution_count": null,
   "id": "5fb986d6",
   "metadata": {},
   "outputs": [],
   "source": [
    "data = data.drop(columns=hist_vitals_cols[2:])\n",
    "len(data.columns.tolist())"
   ]
  },
  {
   "cell_type": "markdown",
   "id": "8fcc55f4",
   "metadata": {},
   "source": [
    "## Historical Labs\n",
    "\n",
    "### Nulls & Stats"
   ]
  },
  {
   "cell_type": "code",
   "execution_count": null,
   "id": "943cfb1c",
   "metadata": {},
   "outputs": [],
   "source": [
    "# update columns\n",
    "\n",
    "hist_labs = data[hist_labs_cols]\n",
    "hist_labs.iloc[:, 2:102].info()"
   ]
  },
  {
   "cell_type": "markdown",
   "id": "21524a04",
   "metadata": {},
   "source": [
    "I would simply drop these columns as well. Some columns have all null values, and otherwise I maintain the same reasons as above."
   ]
  },
  {
   "cell_type": "code",
   "execution_count": null,
   "id": "347606bd",
   "metadata": {},
   "outputs": [],
   "source": [
    "data = data.drop(columns=hist_labs_cols[2:])\n",
    "\n",
    "len(data.columns.tolist())"
   ]
  },
  {
   "cell_type": "markdown",
   "id": "2fbeb755",
   "metadata": {},
   "source": [
    "## Imaging\n",
    "\n",
    "### Nulls & Statistics"
   ]
  },
  {
   "cell_type": "code",
   "execution_count": null,
   "id": "2ecc31c5",
   "metadata": {},
   "outputs": [],
   "source": [
    "# update columns\n",
    "\n",
    "imag_ekg = data[imag_EKG_cols]\n",
    "imag_ekg.info()"
   ]
  },
  {
   "cell_type": "markdown",
   "id": "6104e18f",
   "metadata": {},
   "source": [
    "**No Nulls**"
   ]
  },
  {
   "cell_type": "code",
   "execution_count": null,
   "id": "76561a65",
   "metadata": {},
   "outputs": [],
   "source": [
    "imag_ekg.describe(include='all').T.sort_values(by='mean', ascending=False)"
   ]
  },
  {
   "cell_type": "markdown",
   "id": "127c0afa",
   "metadata": {},
   "source": [
    "EKG (electrocardiogram records the electrical signals in the heart), CXR (Chest Xray), and Other X-Rays are most common imaging done."
   ]
  },
  {
   "cell_type": "code",
   "execution_count": null,
   "id": "28e34154",
   "metadata": {},
   "outputs": [],
   "source": [
    "# update columns\n",
    "\n",
    "target = data['disposition']\n",
    "print(target.isnull().sum())"
   ]
  },
  {
   "cell_type": "code",
   "execution_count": null,
   "id": "918095d6",
   "metadata": {},
   "outputs": [],
   "source": [
    "import plotly.express as px\n",
    "\n",
    "fig = px.histogram(target, x='disposition',\n",
    "                  title = 'disposition distribution')\n",
    "\n",
    "fig.show()"
   ]
  },
  {
   "cell_type": "code",
   "execution_count": null,
   "id": "ff9d5c9d",
   "metadata": {},
   "outputs": [],
   "source": [
    "# split df into subsets so it is easier to see\n",
    "# these will all be updated as we explore and fill nulls \n",
    "\n",
    "demographics = data[demographic_cols]\n",
    "triage_eval = data[triage_eval_cols]\n",
    "chief_complaints = data[chief_complaint_cols]\n",
    "hosp_use = data[hosp_use_cols]\n",
    "med_hist = data[med_hist_cols]\n",
    "meds = data[meds_cols]\n",
    "imag_ekg = data[imag_EKG_cols]\n",
    "target = data['disposition']"
   ]
  },
  {
   "cell_type": "markdown",
   "id": "7d33e9f4",
   "metadata": {},
   "source": [
    "# Undersample the Language Variable"
   ]
  },
  {
   "cell_type": "code",
   "execution_count": null,
   "id": "dce5e717",
   "metadata": {},
   "outputs": [],
   "source": [
    "# 1. create two new filtered dfs, one of only English speakers and one of Non-English speakers\n",
    "# 2. randomly sample the English speakers to the same # of rows as the Non-English speakers\n",
    "# 3. concat the dfs together so there is an equal sample of both\n",
    "\n",
    "english_speakers = data[data['lang'] == 'English']\n",
    "non_eng_speakers = data[data['lang'] == 'Other']\n",
    "english_sample = english_speakers.sample(n=32140)\n",
    "balanced_data = pd.concat([non_eng_speakers, english_sample], axis=0, join='outer')\n",
    "balanced_data"
   ]
  },
  {
   "cell_type": "markdown",
   "id": "905e1447",
   "metadata": {},
   "source": [
    "# Write to `.csv` and `.pkl` files "
   ]
  },
  {
   "cell_type": "code",
   "execution_count": null,
   "id": "13670aba",
   "metadata": {},
   "outputs": [],
   "source": [
    "# # write to csv\n",
    "\n",
    "# balanced_data.to_csv('balanced_nonEng_clean.csv')\n",
    "\n",
    "# #write to pickle\n",
    "# balanced_data.to_pickle('balanced_nonEng_clean.pkl')"
   ]
  },
  {
   "cell_type": "code",
   "execution_count": null,
   "id": "54bef557",
   "metadata": {},
   "outputs": [],
   "source": [
    "# # write to csv\n",
    "\n",
    "# data.to_csv('original_dataset_clean.csv')\n",
    "\n",
    "# # write to pickle\n",
    "# data.to_pickle('original_dataset_clean.pkl')"
   ]
  },
  {
   "cell_type": "code",
   "execution_count": null,
   "id": "7f3e877b",
   "metadata": {},
   "outputs": [],
   "source": []
  }
 ],
 "metadata": {
  "kernelspec": {
   "display_name": "Python 3 (ipykernel)",
   "language": "python",
   "name": "python3"
  },
  "language_info": {
   "codemirror_mode": {
    "name": "ipython",
    "version": 3
   },
   "file_extension": ".py",
   "mimetype": "text/x-python",
   "name": "python",
   "nbconvert_exporter": "python",
   "pygments_lexer": "ipython3",
   "version": "3.11.4"
  }
 },
 "nbformat": 4,
 "nbformat_minor": 5
}
