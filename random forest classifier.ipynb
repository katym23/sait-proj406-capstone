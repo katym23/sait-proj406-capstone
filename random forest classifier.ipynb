{
 "cells": [
  {
   "cell_type": "markdown",
   "id": "bbca47e9",
   "metadata": {},
   "source": [
    "# PROJ 406 Capstone Project\n",
    "## Predicting Hospital Admission For Non-English Speaking Patients\n",
    "\n",
    "\n",
    "### Import Required Libraries"
   ]
  },
  {
   "cell_type": "code",
   "execution_count": null,
   "id": "3974c420",
   "metadata": {},
   "outputs": [],
   "source": [
    "\"\"\"\n",
    "Author: Katy Mombourquette, Denis Ouellette\n",
    "Date: Dec 15, 2023\n",
    "\n",
    "Dependencies:\n",
    "Pandas\n",
    "Numpy\n",
    "Sklearn\n",
    "Imblearn\n",
    "Matplotlib\n",
    "Seaborn\n",
    "Scipy\n",
    "Pyro\n",
    "Torch\n",
    "\n",
    "Install instructions\n",
    "1. Install Pandas: !pip install pandas\n",
    "2. Install Numpy: !pip install numpy\n",
    "3. Install Sklearn: !pip install sklearn\n",
    "4. Install Imblearn: !pip install imblearn\n",
    "5. Install Matplotlib: !pip install matplotlib\n",
    "6. Install Seaborn: !pip install seaborn\n",
    "7. Install Scipy: !pip install scipy\n",
    "8. Install Pyro: !pip3 install pyro-ppl\n",
    "9. Install Torch: pip3 install torch torchvision torchaudio\n",
    "\n",
    "\"\"\""
   ]
  },
  {
   "cell_type": "code",
   "execution_count": null,
   "id": "1ad1e18a",
   "metadata": {},
   "outputs": [],
   "source": [
    "# main libraries\n",
    "import pandas as pd\n",
    "import numpy as np\n",
    "\n",
    "\n",
    "# sklearn\n",
    "from sklearn.model_selection import train_test_split, cross_validate\n",
    "from sklearn.pipeline import make_pipeline\n",
    "from sklearn.compose import make_column_transformer\n",
    "from sklearn.preprocessing import OneHotEncoder, StandardScaler, OrdinalEncoder\n",
    "from sklearn.ensemble import RandomForestClassifier\n",
    "from imblearn.over_sampling import RandomOverSampler\n",
    "from sklearn.metrics import classification_report, confusion_matrix\n",
    "\n",
    "# visualizations\n",
    "import matplotlib.pyplot as plt\n",
    "import seaborn as sns\n",
    "\n",
    "# other\n",
    "from scipy.stats import randint, loguniform\n",
    "from sklearn.preprocessing import FunctionTransformer\n",
    "from functions import calculate_stats, set_threshold\n",
    "import pyro\n",
    "import torch\n",
    "from pyro.infer.mcmc import HMC, MCMC\n",
    "\n",
    "# ignore warnings\n",
    "import warnings\n",
    "warnings.filterwarnings(\"ignore\")"
   ]
  },
  {
   "cell_type": "markdown",
   "id": "946daead",
   "metadata": {},
   "source": [
    "### Prepare the data for the model\n",
    "\n",
    "#### read in the cleaned dataset\n",
    "\n",
    "Please note that the dataset read in below is the already cleaned dataset, which includes the resampled language variable. Refer to the \"data_cleaning.ipynb\" notebook to see the process."
   ]
  },
  {
   "cell_type": "code",
   "execution_count": null,
   "id": "c0e814f0",
   "metadata": {},
   "outputs": [],
   "source": [
    "data = pd.read_pickle(\"balanced_nonEng_clean.pkl\")"
   ]
  },
  {
   "cell_type": "markdown",
   "id": "a9ca5208",
   "metadata": {},
   "source": [
    "#### drop irrelevant or inappropriate columns"
   ]
  },
  {
   "cell_type": "code",
   "execution_count": null,
   "id": "15026452",
   "metadata": {
    "scrolled": true
   },
   "outputs": [],
   "source": [
    "data = data.drop(columns=['race', 'Unnamed: 0', 'patient_id'])\n",
    "data = data.sample(1000)"
   ]
  },
  {
   "cell_type": "markdown",
   "id": "cd868102",
   "metadata": {},
   "source": [
    "#### filter to pre-determined top 400 features"
   ]
  },
  {
   "cell_type": "code",
   "execution_count": null,
   "id": "3a2eefc9",
   "metadata": {},
   "outputs": [],
   "source": [
    "top_400_features = ['disposition','breastcancr','burns','anemia','backproblem','cc_dentalpain','cardiaarrst',\n",
    "                    'attentiondeficitconductdisruptivebeha','asthma','acutphanm','bladdercncr','biliarydx','asppneumon',\n",
    "                    'lang','meds_cough/coldpreparations','cc_diarrhea','dep_name','ecodesstruckbyagainst','complicproc',\n",
    "                    'birthasphyx','esi','allergy','bph','acrenlfail','alcoholrelateddisorders','complicdevi','artembolism',\n",
    "                    'age','gender','brnchlngca','arrivalday','birthtrauma','breastdx','cervixcancr','adjustmentdisorders',\n",
    "                    'triage_vital_temp','cc_femaleguproblem','triage_vital_dbp','cc_alteredmentalstatus','meds_cardiacdrugs',\n",
    "                    'cc_wheezing','religion','meds_herbals','poisnnonmed','cc_medicationproblem','previousdispo',\n",
    "                    'meds_antiinfectives','abdomnlpain','otinflskin','otitismedia','analrectal','cc_medicationrefill',\n",
    "                    'echo_count','deliriumdementiaamnesticothercognitiv','cc_urinaryfrequency','adltrespfl','triage_vital_hr',\n",
    "                    'meds_blood','coaghemrdx','ecodesfirearm','cc_lossofconsciousness','arrivalhour_bin','urinstone',\n",
    "                    'cc_shoulderinjury','cc_confusion','viralinfect','othergidx','diabmelwcm','respdistres',\n",
    "                    'meds_antihyperglycemics','cc_withdrawal-alcohol','cc_insectbite','othergudx','fetaldistrs','cc_legpain',\n",
    "                    'cc_alcoholproblem','cc_cough','urinyorgca','cc_thumbinjury','cc_faciallaceration','ethnicity',\n",
    "                    'htninpreg','whtblooddx','cc_shoulderpain','hyperlipidem','cxr_count',\n",
    "                    'cc_headache-recurrentorknowndxmigraines','cc_dehydration','arrivalmonth','cc_legswelling','cc_jawpain',\n",
    "                    'gihemorrhag','pancreascan','2ndarymalig','mooddisorders','giconganom','cc_hallucinations','pancreasdx',\n",
    "                    'cc_irregularheartbeat','abortcompl','cc_wristpain','cc_maleguproblem','cc_panicattack',\n",
    "                    'cc_woundre-evaluation','cc_multiplefalls','leukemias','infmalegen','aneurysm','tuberculosis',\n",
    "                    'cc_generalizedbodyaches','meds_eentpreps','epilepsycnv','cc_footpain','cc_neurologicproblem',\n",
    "                    'cc_handpain','meds_colonystimulatingfactors','blindness','cc_leginjury','ekg_count','meds_diagnostic',\n",
    "                    'cc_hypotension','cc_ribinjury','meds_antifungals','suicideandintentionalselfinflictedin',\n",
    "                    'cc_overdose-intentional','cc_chesttightness','cc_gibleeding','cc_fingerinjury','cc_handinjury',\n",
    "                    'cc_hyperglycemia','cc_drug/alcoholassessment','meds_elect/caloric/h2o','othliverdx','otconganom',\n",
    "                    'immunizscrn','meds_autonomicdrugs','cc_post-opproblem','meds_anesthetics','othlowresp',\n",
    "                    'meds_analgesicandantihistaminecombination','otcomplbir','meds_antihistamines','anxietydisorders',\n",
    "                    'ulceratcol','cc_chestpain','cc_hematuria','insurance_status','othbactinf','cc_breastpain',\n",
    "                    'cc_medicalproblem','cc_stdcheck','cc_cyst','cc_suture/stapleremoval','copd','cc_hemoptysis',\n",
    "                    'meds_antidotes','employstatus','chrkidneydisease','schizophreniaandotherpsychoticdisorde',\n",
    "                    'otherus_count','cc_hippain','cc_laceration','cc_headinjury','nonhodglym','cc_breathingdifficulty',\n",
    "                    'cc_cardiacarrest','meds_antiinfectives/miscellaneous','liveborn','cc_skinirritation',\n",
    "                    'cc_feverimmunocompromised','cc_seizures','cc_lethargy','cc_anklepain','othfracture',\n",
    "                    'cc_vaginaldischarge','cc_urinaryretention','maritalstatus','otdxbladdr','cc_fall>65',\n",
    "                    'cc_follow-upcellulitis','otbnignneo','cc_shortnessofbreath','cc_ingestion','cc_armswelling',\n",
    "                    'cc_conjunctivitis','feminfertil','cc_nausea','cc_kneepain','cc_nasalcongestion',\n",
    "                    'impulsecontroldisordersnec','otherimg_count','otrespirca','cc_fatigue','meds_contraceptives',\n",
    "                    'rehab','cc_kneeinjury','triage_vital_sbp','pleurisy','cc_headlaceration','cc_tickremoval',\n",
    "                    'meds_anti-obesitydrugs','cc_suicidal','unclassified','sprain','fatigue','ecodesdrowningsubmersion',\n",
    "                    'gastroent','cc_asthma','cc_toepain','maligneopls','ecodesadverseeffectsofmedicaldrugs',\n",
    "                    'cc_headachere-evaluation','meds_anticoagulants','cc_elevatedbloodsugar-nosymptoms','goutotcrys',\n",
    "                    'ms','cc_oralswelling','carditis','cc_influenza','cc_breathingproblem','cc_vaginalpain','malgenitca',\n",
    "                    'cc_alcoholintoxication','pulmhartdx','bronchitis','cc_respiratorydistress',\n",
    "                    'ecodesotherspecifiedandclassifiable','maintchemr','acutemi','cc_bleeding/bruising','cc_fulltrauma',\n",
    "                    'arrivalmode','diabmelnoc','cc_elbowpain','cc_fingerpain','glaucoma','acutecvd','cc_wristinjury',\n",
    "                    'coronathero','meds_antiallergy','meds_antineoplastics','pelvicobstr','otdxstomch','gastritis',\n",
    "                    'poisonpsych','longpregncy','othinfectns','endometrios','cc_mass','cc_pelvicpain','cc_groinpain',\n",
    "                    'nephritis','cc_headache','cc_sorethroat','developmentaldisorders','umbilcord','cc_chills','mouthdx',\n",
    "                    'fxarm','otheredcns','othnervdx','cc_vaginalbleeding','meds_smokingdeterrents','otendodsor',\n",
    "                    'meds_gastrointestinal','cc_poisoning','earlylabor','cc_headache-newonsetornewsymptoms',\n",
    "                    'meds_antiplateletdrugs','cc_hypertension','testiscancr','dysrhythmia','cc_edema','cc_fingerswelling',\n",
    "                    'othheartdx','cc_palpitations','cc_dysuria','cc_footinjury','cardiacanom','cc_detoxevaluation',\n",
    "                    'multmyeloma','contraceptiv','cc_ankleinjury','cc_rectalpain','cc_depression','inducabortn',\n",
    "                    'brainnscan','cc_fever-75yearsorolder','lowbirthwt','cc_toeinjury','spontabortn','cc_dizziness',\n",
    "                    'cc_rash','fuo','cc_woundinfection','meds_antihistamineanddecongestantcombination','cc_trauma',\n",
    "                    'cc_sicklecellpain','ecodesunspecified','bonectcncr','cc_fall','cc_uri','cc_modifiedtrauma',\n",
    "                    'comabrndmg','cc_numbness','meds_pre-natalvitamins','meds_diuretics','tonsillitis','othereardx',\n",
    "                    'cc_elevatedbloodsugar-symptomatic','meds_antivirals','lymphenlarg','meds_biologicals','cc_backpain',\n",
    "                    'cc_emesis','otherct_count','cc_tachycardia','cc_addictionproblem','prostatecan','skinmelanom',\n",
    "                    'cc_epistaxis','n_admissions','nauseavomit','otbonedx','miscellaneousmentalhealthdisorders',\n",
    "                    'menopausldx','teethdx','cc_burn','parkinsons','hepatitis','rheumarth','cc_strokealert','malposition',\n",
    "                    'ectopicpreg','cc_coldlikesymptoms','cc_medicalscreening','femgenitca',\n",
    "                    'screeningandhistoryofmentalhealthan','cc_fever','cc_facialswelling','varicosevn',\n",
    "                    'cc_nearsyncope','ecodessuffocation','menstrualdx','cc_blurredvision','cc_jointswelling',\n",
    "                    'cc_animalbite','ovariancyst','ecodesplaceofoccurrence','spincorinj','nutritdefic','ecodescutpierce',\n",
    "                    'septicemia','neoplsmunsp','htncomplicn','cc_extremitylaceration','cc_ribpain','osteoarthros',\n",
    "                    'nervcongan','otupprresp','cc_giproblem','kidnyrnlca','otpregcomp','peripathero','ovarycancer',\n",
    "                    'skininfectn','lateeffcvd','exameval','ecodesfall','influenza','otdxkidney','diverticulos','eyeinfectn',\n",
    "                    'cysticfibro','intracrninj','disordersusuallydiagnosedininfancych','superficinj','syncope','cc_syncope',\n",
    "                    'fxleg','othereyedx','sle','triage_vital_o2_device','cc_epigastricpain','cc_earproblem','pathologfx',\n",
    "                    'hemorrpreg','intobstruct','cc_foreignbodyineye','meds_antibiotics','triage_vital_rr','otjointdx',\n",
    "                    'othercvd','dizziness','cc_eyeproblem','tia','hdnckcancr','esophcancer','htn','appendicitis',\n",
    "                    'hemmorhoids']\n",
    "\n",
    "\n",
    "data = data[top_400_features]\n",
    "data.info()"
   ]
  },
  {
   "cell_type": "markdown",
   "id": "ac0142e6",
   "metadata": {},
   "source": [
    "#### Split the data into train and test data & oversample to balance target variable\n",
    "\n",
    "Note that oversampling introduces some (educated) synthetic data into the model. However the original number of rows was ~64000 and so only about 2000 synthetic rows were added."
   ]
  },
  {
   "cell_type": "code",
   "execution_count": null,
   "id": "6c2e2c47",
   "metadata": {},
   "outputs": [],
   "source": [
    "df_train, df_test = train_test_split(data, test_size = 0.2, random_state = 127)\n",
    "X_train = df_train.drop(columns=\"disposition\")\n",
    "y_train = df_train['disposition']\n",
    "y_train = (y_train == 'Admit').astype('int') # because we're predicting Admission\n",
    "X_test = df_test.drop(columns=\"disposition\")\n",
    "y_test = df_test['disposition']\n",
    "y_test = (y_test == 'Admit').astype('int')"
   ]
  },
  {
   "cell_type": "code",
   "execution_count": null,
   "id": "703adc98",
   "metadata": {},
   "outputs": [],
   "source": [
    "# resample the data so disposition is balanced\n",
    "\n",
    "oversampler = RandomOverSampler(random_state=17)\n",
    "X_resampled, y_resampled = oversampler.fit_resample(X_train, y_train)\n",
    "y_resampled.value_counts()"
   ]
  },
  {
   "cell_type": "markdown",
   "id": "cdcb3024",
   "metadata": {},
   "source": [
    "#### split features into types"
   ]
  },
  {
   "cell_type": "code",
   "execution_count": null,
   "id": "c4bf7c09",
   "metadata": {},
   "outputs": [],
   "source": [
    "ordinal_cols = ['arrivalmonth', 'arrivalday', 'arrivalhour_bin']\n",
    "cat_cols = ['gender', 'ethnicity', 'religion', 'maritalstatus', 'employstatus', 'insurance_status', \n",
    "            'dep_name', 'arrivalmode', 'lang', 'previousdispo']\n",
    "binary_cols = [\n",
    "     'triage_vital_o2_device', 'cc_addictionproblem', 'cc_alcoholintoxication', 'cc_alcoholproblem', \n",
    "     'cc_alteredmentalstatus', 'cc_animalbite', 'cc_ankleinjury', 'cc_anklepain', 'cc_armswelling', \n",
    "     'cc_asthma', 'cc_backpain', 'cc_bleeding/bruising', 'cc_blurredvision', 'cc_breastpain', \n",
    "     'cc_breathingdifficulty', 'cc_breathingproblem', 'cc_burn', 'cc_cardiacarrest', 'cc_chestpain', \n",
    "     'cc_chesttightness', 'cc_chills', 'cc_coldlikesymptoms', 'cc_confusion', 'cc_conjunctivitis', 'cc_cough', \n",
    "     'cc_cyst', 'cc_dehydration', 'cc_dentalpain', 'cc_depression', 'cc_detoxevaluation', 'cc_diarrhea', 'cc_dizziness', \n",
    "     'cc_drug/alcoholassessment', 'cc_dysuria', 'cc_earproblem', 'cc_edema', 'cc_elbowpain', \n",
    "     'cc_elevatedbloodsugar-nosymptoms', 'cc_elevatedbloodsugar-symptomatic', 'cc_emesis', 'cc_epigastricpain', \n",
    "     'cc_epistaxis', 'cc_extremitylaceration', 'cc_eyeproblem', 'cc_faciallaceration', 'cc_facialswelling', 'cc_fall', \n",
    "     'cc_fall>65', 'cc_fatigue', 'cc_femaleguproblem', 'cc_fever', 'cc_fever-75yearsorolder', 'cc_feverimmunocompromised', \n",
    "     'cc_fingerinjury', 'cc_fingerpain', 'cc_fingerswelling', 'cc_follow-upcellulitis', 'cc_footinjury', 'cc_footpain', \n",
    "     'cc_foreignbodyineye', 'cc_fulltrauma', 'cc_generalizedbodyaches', 'cc_gibleeding', 'cc_giproblem', 'cc_groinpain', \n",
    "     'cc_hallucinations', 'cc_handinjury', 'cc_handpain', 'cc_headache', 'cc_headache-newonsetornewsymptoms', \n",
    "     'cc_headache-recurrentorknowndxmigraines', 'cc_headachere-evaluation', 'cc_headinjury', 'cc_headlaceration', \n",
    "     'cc_hematuria', 'cc_hemoptysis', 'cc_hippain', 'cc_hyperglycemia', 'cc_hypertension', 'cc_hypotension', 'cc_influenza',\n",
    "     'cc_ingestion', 'cc_insectbite', 'cc_irregularheartbeat', 'cc_jawpain', 'cc_jointswelling', 'cc_kneeinjury', \n",
    "     'cc_kneepain', 'cc_laceration', 'cc_leginjury', 'cc_legpain', 'cc_legswelling', 'cc_lethargy', \n",
    "     'cc_lossofconsciousness', 'cc_maleguproblem', 'cc_mass', 'cc_medicalproblem', 'cc_medicalscreening', \n",
    "     'cc_medicationproblem', 'cc_medicationrefill', 'cc_modifiedtrauma', 'cc_multiplefalls', 'cc_nasalcongestion', \n",
    "     'cc_nausea', 'cc_nearsyncope', 'cc_neurologicproblem', 'cc_numbness', 'cc_oralswelling', 'cc_overdose-intentional', \n",
    "     'cc_palpitations', 'cc_panicattack', 'cc_pelvicpain', 'cc_poisoning', 'cc_post-opproblem', 'cc_rash', 'cc_rectalpain',\n",
    "     'cc_respiratorydistress', 'cc_ribinjury', 'cc_ribpain', 'cc_seizures', 'cc_shortnessofbreath', 'cc_shoulderinjury', \n",
    "     'cc_shoulderpain', 'cc_sicklecellpain', 'cc_skinirritation', 'cc_sorethroat', 'cc_stdcheck', 'cc_strokealert', \n",
    "     'cc_suicidal', 'cc_suture/stapleremoval', 'cc_syncope', 'cc_tachycardia', 'cc_thumbinjury', 'cc_tickremoval', \n",
    "     'cc_toeinjury', 'cc_toepain', 'cc_trauma', 'cc_uri', 'cc_urinaryfrequency', 'cc_urinaryretention', 'cc_vaginalbleeding',\n",
    "     'cc_vaginaldischarge', 'cc_vaginalpain', 'cc_wheezing', 'cc_withdrawal-alcohol', 'cc_woundinfection', \n",
    "     'cc_woundre-evaluation', 'cc_wristinjury', 'cc_wristpain', '2ndarymalig', 'abdomnlpain', 'abortcompl', 'acrenlfail', \n",
    "     'acutecvd', 'acutemi', 'acutphanm', 'adjustmentdisorders', 'adltrespfl', 'alcoholrelateddisorders', 'allergy', \n",
    "     'analrectal', 'anemia', 'aneurysm', 'anxietydisorders', 'appendicitis', 'artembolism', 'asppneumon', 'asthma', \n",
    "     'attentiondeficitconductdisruptivebeha', 'backproblem', 'biliarydx', 'birthasphyx', 'birthtrauma', 'bladdercncr', \n",
    "     'blindness', 'bonectcncr', 'bph', 'brainnscan', 'breastcancr', 'breastdx', 'brnchlngca', 'bronchitis', 'burns', \n",
    "     'cardiaarrst', 'cardiacanom', 'carditis', 'cervixcancr', 'chrkidneydisease', 'coaghemrdx', 'comabrndmg', 'complicdevi',\n",
    "     'complicproc', 'contraceptiv', 'copd', 'coronathero', 'cysticfibro', 'deliriumdementiaamnesticothercognitiv', \n",
    "     'developmentaldisorders', 'diabmelnoc', 'diabmelwcm', 'disordersusuallydiagnosedininfancych', 'diverticulos', \n",
    "     'dizziness', 'dysrhythmia', 'earlylabor', 'ecodesadverseeffectsofmedicaldrugs', 'ecodescutpierce', \n",
    "     'ecodesdrowningsubmersion', 'ecodesfall', 'ecodesfirearm', 'ecodesotherspecifiedandclassifiable', \n",
    "     'ecodesplaceofoccurrence', 'ecodesstruckbyagainst', 'ecodessuffocation', 'ecodesunspecified', 'ectopicpreg', \n",
    "     'endometrios', 'epilepsycnv', 'esophcancer', 'exameval', 'eyeinfectn', 'fatigue', 'femgenitca', 'feminfertil', \n",
    "     'fetaldistrs', 'fuo', 'fxarm', 'fxleg', 'gastritis', 'gastroent', 'giconganom', 'gihemorrhag', 'glaucoma', 'goutotcrys',\n",
    "     'hdnckcancr', 'hemmorhoids', 'hemorrpreg', 'hepatitis', 'htn', 'htncomplicn', 'htninpreg', 'hyperlipidem', \n",
    "     'immunizscrn', 'impulsecontroldisordersnec', 'inducabortn', 'influenza', 'infmalegen', 'intobstruct', 'intracrninj',\n",
    "     'kidnyrnlca', 'lateeffcvd', 'leukemias', 'liveborn', 'longpregncy', 'lowbirthwt', 'lymphenlarg', 'maintchemr',\n",
    "     'malgenitca', 'maligneopls', 'malposition', 'menopausldx', 'menstrualdx', 'miscellaneousmentalhealthdisorders',\n",
    "     'mooddisorders', 'mouthdx', 'ms', 'multmyeloma', 'nauseavomit', 'neoplsmunsp', 'nephritis', 'nervcongan', 'nonhodglym',\n",
    "     'nutritdefic', 'osteoarthros', 'otbnignneo', 'otbonedx', 'otcomplbir', 'otconganom', 'otdxbladdr', 'otdxkidney', \n",
    "     'otdxstomch', 'otendodsor', 'othbactinf', 'othercvd', 'othereardx', 'otheredcns', 'othereyedx', 'othergidx', \n",
    "     'othergudx', 'othfracture', 'othheartdx', 'othinfectns', 'othliverdx', 'othlowresp', 'othnervdx', 'otinflskin', \n",
    "     'otitismedia', 'otjointdx', 'otpregcomp', 'otrespirca', 'otupprresp', 'ovariancyst', 'ovarycancer', 'pancreascan', \n",
    "     'pancreasdx', 'parkinsons', 'pathologfx', 'pelvicobstr', 'peripathero', 'pleurisy', 'poisnnonmed', 'poisonpsych', \n",
    "     'prostatecan', 'pulmhartdx', 'rehab', 'respdistres', 'rheumarth', 'schizophreniaandotherpsychoticdisorde', \n",
    "     'screeningandhistoryofmentalhealthan', 'septicemia', 'skininfectn', 'skinmelanom', 'sle', 'spincorinj', \n",
    "     'spontabortn', 'sprain', 'suicideandintentionalselfinflictedin', 'superficinj', 'syncope', 'teethdx', 'testiscancr',\n",
    "     'tia', 'tonsillitis', 'tuberculosis', 'ulceratcol', 'umbilcord', 'unclassified', 'urinstone', 'urinyorgca', \n",
    "     'varicosevn', 'viralinfect', 'whtblooddx']\n",
    "\n",
    "numeric_cols = ['esi', 'age', 'n_admissions', 'triage_vital_hr', \n",
    "                'triage_vital_sbp', 'triage_vital_dbp', 'triage_vital_rr', \n",
    "                'triage_vital_temp', 'cxr_count', 'echo_count', 'ekg_count', \n",
    "                'otherct_count', 'otherimg_count', 'otherus_count', \n",
    "                'meds_analgesicandantihistaminecombination', 'meds_anesthetics', \n",
    "                'meds_anti-obesitydrugs', 'meds_antiallergy', 'meds_antibiotics', \n",
    "                'meds_anticoagulants', 'meds_antidotes', 'meds_antifungals', \n",
    "                'meds_antihistamineanddecongestantcombination', 'meds_antihistamines', \n",
    "                'meds_antihyperglycemics', 'meds_antiinfectives', 'meds_antiinfectives/miscellaneous', \n",
    "                'meds_antineoplastics', 'meds_antiplateletdrugs', 'meds_antivirals', 'meds_autonomicdrugs', \n",
    "                'meds_biologicals', 'meds_blood', 'meds_cardiacdrugs', 'meds_colonystimulatingfactors', \n",
    "                'meds_contraceptives', 'meds_cough/coldpreparations', 'meds_diagnostic', 'meds_diuretics', \n",
    "                'meds_eentpreps', 'meds_elect/caloric/h2o', 'meds_gastrointestinal', 'meds_herbals', \n",
    "                'meds_pre-natalvitamins', 'meds_smokingdeterrents']"
   ]
  },
  {
   "cell_type": "markdown",
   "id": "fd078988",
   "metadata": {},
   "source": [
    "#### set the order of ordinal variables"
   ]
  },
  {
   "cell_type": "code",
   "execution_count": null,
   "id": "e13c180b",
   "metadata": {},
   "outputs": [],
   "source": [
    "# order ordinal values\n",
    "month_order = ['January', 'February', 'March', 'April', 'May',\n",
    "               'June', 'July', 'August', 'September', 'October', 'November', 'December']\n",
    "assert set(month_order) == set(df_train['arrivalmonth'].unique())\n",
    "\n",
    "day_order = ['Monday', 'Tuesday', 'Wednesday', 'Thursday', 'Friday', 'Saturday', 'Sunday']\n",
    "assert set(day_order) == set(df_train['arrivalday'].unique())\n",
    "\n",
    "hour_order = ['23-02', '03-06', '07-10', '11-14', '15-18', '19-22']\n",
    "assert set(hour_order) == set(df_train['arrivalhour_bin'].unique())"
   ]
  },
  {
   "cell_type": "markdown",
   "id": "5b438cb5",
   "metadata": {},
   "source": [
    "#### create column transformers"
   ]
  },
  {
   "cell_type": "code",
   "execution_count": null,
   "id": "241dfec5",
   "metadata": {},
   "outputs": [],
   "source": [
    "cat_transformer = make_pipeline(OneHotEncoder(dtype=int, handle_unknown='ignore'))\n",
    "binary_transformer = make_pipeline(OneHotEncoder(drop='if_binary', dtype=int, handle_unknown='ignore'))\n",
    "numeric_transformer = make_pipeline(StandardScaler())\n",
    "ordinal_transformer1 = make_pipeline(OrdinalEncoder(categories=[month_order], dtype=int))\n",
    "ordinal_transformer2 = make_pipeline(OrdinalEncoder(categories=[day_order], dtype=int))\n",
    "ordinal_transformer3 = make_pipeline(OrdinalEncoder(categories=[hour_order], dtype=int))\n",
    "\n",
    "preprocessor = make_column_transformer(\n",
    "    (cat_transformer, cat_cols),\n",
    "    (binary_transformer, binary_cols),\n",
    "    (numeric_transformer, numeric_cols),\n",
    "    (ordinal_transformer1, ['arrivalmonth']),\n",
    "    (ordinal_transformer2, ['arrivalday']),\n",
    "    (ordinal_transformer3, ['arrivalhour_bin'])\n",
    ")"
   ]
  },
  {
   "cell_type": "markdown",
   "id": "ca3300f8",
   "metadata": {},
   "source": [
    "### Train the model\n",
    "\n",
    "#### cross validate to find general accuracy score\n",
    "\n",
    "The RFC's parameters were determined in a prior hyperparameter tuning process"
   ]
  },
  {
   "cell_type": "code",
   "execution_count": null,
   "id": "fd94c5ab",
   "metadata": {},
   "outputs": [],
   "source": [
    "# fit & score the pipeline\n",
    "rfc_pipe = make_pipeline(preprocessor, RandomForestClassifier(class_weight='balanced',\n",
    "                                                              n_estimators=200,\n",
    "                                                              max_depth=None))\n",
    "rfc_scores = pd.DataFrame(cross_validate(rfc_pipe, X_resampled, y_resampled, cv=5, return_train_score=True))\n",
    "rfc_scores"
   ]
  },
  {
   "cell_type": "markdown",
   "id": "a35f2d47",
   "metadata": {},
   "source": [
    "#### set a custom threshold and refit."
   ]
  },
  {
   "cell_type": "code",
   "execution_count": null,
   "id": "7bb4cf07",
   "metadata": {},
   "outputs": [],
   "source": [
    "threshold_transformer = FunctionTransformer(set_threshold, kw_args={'threshold': 0.25})\n",
    "rfc_pipe = make_pipeline(preprocessor, RandomForestClassifier(class_weight='balanced', n_estimators=200, max_depth=None))\n",
    "\n",
    "rfc_pipe.fit(X_train, y_train)"
   ]
  },
  {
   "cell_type": "markdown",
   "id": "d957502f",
   "metadata": {},
   "source": [
    "#### predict on the test set"
   ]
  },
  {
   "cell_type": "code",
   "execution_count": null,
   "id": "1f56b36d",
   "metadata": {},
   "outputs": [],
   "source": [
    "y_pred_proba = rfc_pipe.predict_proba(X_test)\n",
    "\n",
    "y_pred_threshold = threshold_transformer.transform(y_pred_proba)"
   ]
  },
  {
   "cell_type": "markdown",
   "id": "fb1084c4",
   "metadata": {},
   "source": [
    "## Scoring\n",
    "\n",
    "#### Confusion Matrix"
   ]
  },
  {
   "cell_type": "code",
   "execution_count": null,
   "id": "02dd14db",
   "metadata": {
    "scrolled": false
   },
   "outputs": [],
   "source": [
    "conf_matrix = confusion_matrix(y_test, y_pred_threshold)\n",
    "\n",
    "# Plot Confusion Matrix\n",
    "plt.figure(figsize=(8, 6))\n",
    "sns.heatmap(conf_matrix, annot=True, fmt='d', cmap='Blues', cbar=False,\n",
    "            xticklabels=['Discharged', 'Admit'],\n",
    "            yticklabels=['Discharged', 'Admit'],\n",
    "            linewidths=1,\n",
    "            linecolor='white')\n",
    "plt.xlabel('Predicted')\n",
    "plt.ylabel('True')\n",
    "plt.title('Confusion Matrix')\n",
    "plt.show()\n",
    "plt.savefig('confusion_matrix.png')"
   ]
  },
  {
   "cell_type": "markdown",
   "id": "6d1e2bd1",
   "metadata": {},
   "source": [
    "#### Classification Report"
   ]
  },
  {
   "cell_type": "code",
   "execution_count": null,
   "id": "e1e9ae1f",
   "metadata": {
    "scrolled": true
   },
   "outputs": [],
   "source": [
    "# Print Classification Report\n",
    "class_report = classification_report(y_test, y_pred_threshold)\n",
    "print(\"\\nClassification Report:\")\n",
    "print(class_report)"
   ]
  },
  {
   "cell_type": "markdown",
   "id": "8a9cf8f0",
   "metadata": {},
   "source": [
    "#### False Negative / False Positive %\n",
    "\n",
    "Note that the numbers input below may differ slightly depending on when the confusion matrix was last run"
   ]
  },
  {
   "cell_type": "code",
   "execution_count": null,
   "id": "d7ab8f43",
   "metadata": {},
   "outputs": [],
   "source": [
    "calculate_stats(6491, 1897, 526, 3049)"
   ]
  },
  {
   "cell_type": "markdown",
   "id": "38bc3d8a",
   "metadata": {},
   "source": [
    "# Results"
   ]
  },
  {
   "cell_type": "code",
   "execution_count": null,
   "id": "3e1efbdc",
   "metadata": {},
   "outputs": [],
   "source": [
    "predictions = pd.DataFrame(y_pred_proba)\n",
    "predictions.columns = ['Discharge Probability', 'Admit Probability']\n",
    "predictions['Prediction'] = y_pred_threshold\n",
    "predictions['Actual'] = y_test\n",
    "predictions['Correct'] = (predictions['Prediction'] == predictions['Actual'])\n",
    "predictions['Correct'].replace(True, 'Correct', inplace=True)\n",
    "predictions['Correct'].replace(False, 'Incorrect', inplace=True)\n",
    "predictions"
   ]
  },
  {
   "cell_type": "code",
   "execution_count": null,
   "id": "4bc36c55",
   "metadata": {},
   "outputs": [],
   "source": [
    "# # Write predictions to csv\n",
    "# predictions.to_csv(\"predictions.csv\")"
   ]
  },
  {
   "cell_type": "markdown",
   "id": "a648ee16",
   "metadata": {},
   "source": [
    "#### Feature Importances"
   ]
  },
  {
   "cell_type": "code",
   "execution_count": null,
   "id": "6a394749",
   "metadata": {
    "scrolled": true
   },
   "outputs": [],
   "source": [
    "# Get Feature Importances\n",
    "feature_importances = rfc_pipe.named_steps['randomforestclassifier'].feature_importances_\n",
    "\n",
    "# Convert to dataframe\n",
    "feature_importance_dict = dict(zip(X_resampled.columns.tolist(), feature_importances))\n",
    "sorted_feature_importance = sorted(feature_importance_dict.items(), key=lambda x: x[1], reverse=True)\n",
    "feature_importance_df = pd.DataFrame(sorted_feature_importance, columns=['Feature', 'Importance'])\n",
    "\n",
    "# Display top n features\n",
    "n = int(input(\"Please input the number of features to view: \"))\n",
    "feature_importance_df[:n]"
   ]
  },
  {
   "cell_type": "code",
   "execution_count": null,
   "id": "72acf008",
   "metadata": {},
   "outputs": [],
   "source": [
    "# # Write to csv\n",
    "\n",
    "# feature_importance_df.to_csv(\"feature_importances.csv\")"
   ]
  }
 ],
 "metadata": {
  "kernelspec": {
   "display_name": "Python 3 (ipykernel)",
   "language": "python",
   "name": "python3"
  },
  "language_info": {
   "codemirror_mode": {
    "name": "ipython",
    "version": 3
   },
   "file_extension": ".py",
   "mimetype": "text/x-python",
   "name": "python",
   "nbconvert_exporter": "python",
   "pygments_lexer": "ipython3",
   "version": "3.11.4"
  }
 },
 "nbformat": 4,
 "nbformat_minor": 5
}
